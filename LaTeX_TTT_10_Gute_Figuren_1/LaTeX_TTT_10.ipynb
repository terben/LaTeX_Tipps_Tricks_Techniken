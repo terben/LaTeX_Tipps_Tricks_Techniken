{
 "cells": [
  {
   "cell_type": "markdown",
   "id": "643d6fd1-cc13-46da-95d1-6aea45420515",
   "metadata": {},
   "source": [
    "# Notebook zu LaTeX TTT-Teil 10\n",
    "\n",
    "## Gute Figuren für die Abschlussarbeit"
   ]
  },
  {
   "cell_type": "code",
   "execution_count": null,
   "id": "2e56c56a-ded4-410e-9a56-945e3e1c065e",
   "metadata": {},
   "outputs": [],
   "source": [
    "# In Unix/Lunux Umgebungen erzeugt diese Zelle bei Nichtvorhandensein einen \n",
    "# Unterodner 'figuren':\n",
    "\n",
    "!test -d figuren || mkdir figuren"
   ]
  },
  {
   "cell_type": "markdown",
   "id": "ed431505-4fdd-48cb-8758-e898f1f8bce2",
   "metadata": {},
   "source": [
    "Stellen Sie vor Ausführung des nachfolgenden Notebooks bitte sicher, dass es ein Unterverzechinis `figuren` gibt!"
   ]
  },
  {
   "cell_type": "code",
   "execution_count": null,
   "id": "918d8f06-c4b6-45f8-a67d-97e570407dc6",
   "metadata": {},
   "outputs": [],
   "source": [
    "import matplotlib.pyplot as plt\n",
    "import matplotlib\n",
    "\n",
    "# Standard-Dimensionen fuer Figuren\n",
    "# von matplotlib: \n",
    "#\n",
    "# Breite und Höhe: 6.4 in x 4.8 in\n",
    "# Text- oder Fontgröße: 10pt\n",
    "#\n",
    "\n",
    "# edgecolor erzeugt einen Rahmen um die ganze Figur:\n",
    "fig, ax = plt.subplots(linewidth=3, edgecolor=\"black\")\n",
    "ax.plot([2,4,1,5,3], label='label')\n",
    "ax.set_xlabel('x')\n",
    "ax.set_ylabel('y')\n",
    "ax.legend()\n",
    "fig.savefig('figuren/standard.pdf')"
   ]
  },
  {
   "cell_type": "code",
   "execution_count": null,
   "id": "0e5c129f-5cad-4c6d-9ec4-a1faf895fe14",
   "metadata": {},
   "outputs": [],
   "source": [
    "import matplotlib.pyplot as plt\n",
    "import matplotlib\n",
    "\n",
    "# Figuren mit expliziter Größe von 2 und 3 inch als PDF:\n",
    "for size in [2, 3]:\n",
    "    fig, ax = plt.subplots(figsize=(size, size), \n",
    "                           linewidth=3, edgecolor=\"black\")\n",
    "    ax.plot([2,4,1,5,3], label='label')\n",
    "    ax.set_xlabel('x')\n",
    "    ax.set_ylabel('y')\n",
    "    ax.legend()\n",
    "    ax.set_title(f'{size} inch')\n",
    "    fig.tight_layout()\n",
    "    fig.savefig(f'figuren/figur_{size}.pdf')"
   ]
  },
  {
   "cell_type": "code",
   "execution_count": null,
   "id": "f9931acd-8424-4e0d-bc64-bce98d7580de",
   "metadata": {},
   "outputs": [],
   "source": []
  }
 ],
 "metadata": {
  "kernelspec": {
   "display_name": "Python 3 (ipykernel)",
   "language": "python",
   "name": "python3"
  },
  "language_info": {
   "codemirror_mode": {
    "name": "ipython",
    "version": 3
   },
   "file_extension": ".py",
   "mimetype": "text/x-python",
   "name": "python",
   "nbconvert_exporter": "python",
   "pygments_lexer": "ipython3",
   "version": "3.9.17"
  }
 },
 "nbformat": 4,
 "nbformat_minor": 5
}
