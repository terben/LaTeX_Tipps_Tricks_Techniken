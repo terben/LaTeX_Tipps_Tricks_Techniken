{
 "cells": [
  {
   "cell_type": "markdown",
   "id": "2f380d89-9525-4457-be50-62c145db33ae",
   "metadata": {},
   "source": [
    "# Notebook zu LaTeX TTT - Teil 11\n",
    "\n",
    "## Gute Figuren für die Abschlussarbeit (2. Teil) "
   ]
  },
  {
   "cell_type": "markdown",
   "id": "b6375d3a-1324-4c12-9d40-a6e5ca1286df",
   "metadata": {},
   "source": [
    "**Achtung:** Da Figuren durch `thesis_plot` mit LaTeX gerendert werden, muss LaTeX auf Ihrem Rechner installiert sein!"
   ]
  },
  {
   "cell_type": "markdown",
   "id": "cd878b0e-fbd3-4a17-bddb-8d3efcf320ed",
   "metadata": {},
   "source": [
    "Stellen Sie vor Ausführung der folgenden Code-Zellen sicher, dass ein Unterverzeichnis `figuren` existiert."
   ]
  },
  {
   "cell_type": "markdown",
   "id": "7e71f4c8-222d-4b80-83db-e8c00e612c7f",
   "metadata": {},
   "source": [
    "Die folgende Zelle zeigt die grundlegende Nutzung des thesis_plot Moduls. Eine Abbildung kann in folgenden Schritten erstellt werden:\n",
    "\n",
    "- Abbildung erstellen ohne irgendwelche Fonts, Fontgrößen oder Strichdicken explizit zu setzen.\n",
    "\n",
    "- Das `thesis_plot`-Modul einbinden und die Figurdimensionen als auch die im LaTeX-Dokument verwendete Fontgröße als Argumente übergeben.\n",
    "\n",
    "- Labels und Beschriftungen ggf. im LaTeX-Mathematikmodus setzen.\n",
    "\n",
    "- Zum Schluss die durch `thesis_plot` veränderten Parameter an matplotlib wieder zurücksetzen."
   ]
  },
  {
   "cell_type": "code",
   "execution_count": null,
   "id": "b23d404f-9582-44a8-a105-10ea5872ec52",
   "metadata": {},
   "outputs": [],
   "source": [
    "%matplotlib inline\n",
    "import numpy as np\n",
    "import matplotlib.pyplot as plt\n",
    "\n",
    "import thesis_plot as tp\n",
    "\n",
    "tp.thesis_plot(fig_width=5, fig_height=3, fontsize=12)\n",
    "#tp.thesis_plot(fig_width=3, fig_height=2, fontsize=12)\n",
    "\n",
    "x = np.linspace(0.0, 2.0 * np.pi)\n",
    "y = np.sin(x)\n",
    "\n",
    "plt.plot(x, y, label=r'$y = \\sin(x)$')\n",
    "plt.xlabel(r'$x$')\n",
    "plt.ylabel(r'$y$')\n",
    "plt.legend(loc='upper right')\n",
    "\n",
    "plt.savefig('figuren/sinus.pdf')\n",
    "#plt.savefig('figuren/sinus_small.pdf')"
   ]
  },
  {
   "cell_type": "markdown",
   "id": "81364136-1a67-42bd-b9f8-ccd63230c8f3",
   "metadata": {},
   "source": [
    "**Anmerkung zur folgenden Code-Zelle:** Ich habe im Video gesagt, dass das *JPG* Raster-Format generell schlecht ist. Die Aussage gilt für wissenschaftliche Abbildungen, bei denen man ein verlustfreies Bildformat haben möchte. *JPG* tauscht Bildqualität gegen Dateigröße ein, was für Fotogrfien vollkommen in Ordnung, aber für wissenschaftliche Abbildungen nicht gut ist.\n",
    "\n",
    "Deswegen am besten auf PNG beschränken, wenn PDF nicht möglich ist."
   ]
  },
  {
   "cell_type": "code",
   "execution_count": null,
   "id": "16eccaff-1219-48e8-ac09-ef3fd6df204c",
   "metadata": {},
   "outputs": [],
   "source": [
    "import matplotlib\n",
    "import matplotlib.pyplot as plt\n",
    "import matplotlib.patches as patches\n",
    "\n",
    "import thesis_plot as tp\n",
    "\n",
    "tp.thesis_plot(fig_width=2, fig_height=2, fontsize=12)\n",
    "\n",
    "fig = plt.figure()\n",
    "\n",
    "ax = fig.add_subplot(111, aspect='equal')\n",
    "ax.add_patch(\n",
    "    patches.Circle(\n",
    "        (0.5, 0.5),   # (x,y)\n",
    "        0.4           # width\n",
    "    )\n",
    ")\n",
    "\n",
    "ax.set_title('Kreis (PDF)')\n",
    "ax.set_xlabel(r'$x$')\n",
    "ax.set_ylabel(r'$y$')\n",
    "\n",
    "# Bei PDF Figuren gibt es keine dpis!\n",
    "fig.savefig('figuren/kreis.pdf')\n",
    "\n",
    "ax.set_title('Kreis (PNG; 100)')\n",
    "fig.savefig('figuren/kreis_100.png', dpi=100)\n",
    "\n",
    "ax.set_title('Kreis (PNG; 300)')\n",
    "fig.savefig('figuren/kreis_300.png', dpi=300)"
   ]
  },
  {
   "cell_type": "code",
   "execution_count": null,
   "id": "ba24bfd0-f960-4145-b296-8cb82b34bc11",
   "metadata": {},
   "outputs": [],
   "source": []
  }
 ],
 "metadata": {
  "kernelspec": {
   "display_name": "Python 3 (ipykernel)",
   "language": "python",
   "name": "python3"
  },
  "language_info": {
   "codemirror_mode": {
    "name": "ipython",
    "version": 3
   },
   "file_extension": ".py",
   "mimetype": "text/x-python",
   "name": "python",
   "nbconvert_exporter": "python",
   "pygments_lexer": "ipython3",
   "version": "3.9.17"
  }
 },
 "nbformat": 4,
 "nbformat_minor": 5
}
